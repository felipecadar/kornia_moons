{
 "cells": [
  {
   "cell_type": "code",
   "execution_count": 1,
   "metadata": {},
   "outputs": [],
   "source": [
    "# default_exp kapture"
   ]
  },
  {
   "cell_type": "markdown",
   "metadata": {},
   "source": [
    "# kapture\n",
    "\n",
    "> Module for working with local Kapture data: cameras, keypoints, descriptors, matches, etc."
   ]
  },
  {
   "cell_type": "code",
   "execution_count": 2,
   "metadata": {},
   "outputs": [],
   "source": [
    "#hide\n",
    "from nbdev.showdoc import *"
   ]
  },
  {
   "cell_type": "code",
   "execution_count": 3,
   "metadata": {},
   "outputs": [],
   "source": [
    "SAMPLE_DATASET = \"/homeLocal/Github/kapture/samples/7scenes/kapture/stairs/seq-01\"\n",
    "# SAMPLE_DATASET = \"/homeLocal/Github/LocalFeaturesApplications/SampleDataset\""
   ]
  },
  {
   "cell_type": "code",
   "execution_count": 4,
   "metadata": {},
   "outputs": [
    {
     "name": "stderr",
     "output_type": "stream",
     "text": [
      "/homeLocal/miniconda3/envs/moons/lib/python3.10/site-packages/tqdm/auto.py:22: TqdmWarning: IProgress not found. Please update jupyter and ipywidgets. See https://ipywidgets.readthedocs.io/en/stable/user_install.html\n",
      "  from .autonotebook import tqdm as notebook_tqdm\n"
     ]
    }
   ],
   "source": [
    "#export\n",
    "import cv2\n",
    "import torch\n",
    "import kornia as K\n",
    "from typing import List, Union, Tuple, Optional, Dict\n",
    "import matplotlib.pyplot as plt\n",
    "import numpy as np\n",
    "import kapture\n",
    "import kapture.io.csv as csv\n",
    "from scipy.spatial.transform import Rotation\n",
    "\n",
    "def pinhole_from_kapture(dataset_path:str) -> Dict[str,K.geometry.camera.PinholeCamera]:  \n",
    "    \"\"\"Read Kapture sensor and rig data.\n",
    "    \n",
    "    It will read through the sensors.txt from Kapture and select only the PINHOLE and SIMPLE_PINHOLE\n",
    "    camera models. If there is a rigs.txt file, it will use the rotation and translation vectors.\n",
    "    If there are no extrinsic parameters, it will use and identity matrix.\n",
    "    \n",
    "    Args:\n",
    "        dataset_path: Kapture dataset path.\n",
    "    \n",
    "    Returns:\n",
    "        sensors_dict: Dict where the keys are the kapture sensors_id and the items are\n",
    "                      Kornia's PinholeCamera (K.geometry.camera.PinholeCamera).  \n",
    "        \n",
    "    \"\"\"\n",
    "    tar_handlers = csv.get_all_tar_handlers(dataset_path)\n",
    "    kapture_data = csv.kapture_from_dir(dataset_path)\n",
    "    \n",
    "    sensors = kapture_data.sensors\n",
    "    rigs = kapture_data.rigs\n",
    "    keys = list(sensors.keys())\n",
    "    \n",
    "    sensors_dict = {}\n",
    "    for sensor_id in keys:\n",
    "        sensor = kapture_data.sensors[sensor_id]\n",
    "        sensor_name = sensor.name\n",
    "        params = sensor.sensor_params\n",
    "        \n",
    "        if params[0] == 'PINHOLE':\n",
    "            w, h, fx, fy, cx, cy = params[1:]\n",
    "        elif params[0] == \"SIMPLE_PINHOLE\":\n",
    "            w, h, f, cx, cy = params[1:]  \n",
    "            fx = f\n",
    "            fy = f\n",
    "        else:\n",
    "            continue\n",
    "\n",
    "        w, h = int(w), int(h)\n",
    "            \n",
    "        intr = torch.zeros([4,4])\n",
    "        intr[0, 0] = float(fx)\n",
    "        intr[1, 1] = float(fy)\n",
    "        intr[2, 2] = 1.\n",
    "        intr[0, 2] = float(cx)\n",
    "        intr[1, 2] = float(cy)\n",
    "        \n",
    "        if rigs:\n",
    "            for key in rigs:\n",
    "                if sensor_id in rigs[key]:\n",
    "                    quat = rigs[key][sensor_id].r\n",
    "                    r = Rotation.from_quat([quat.x, quat.y, quat.z, quat.w]).as_matrix()\n",
    "                    t = rigs[key][sensor_id].t\n",
    "                    \n",
    "                    extr = np.zeros([4,4])\n",
    "                    extr[:3, :3] = r\n",
    "                    extr[:3, 3] = t[:, 0]\n",
    "                    extr[3, 3] = 1\n",
    "                    extr = torch.from_numpy(extr)\n",
    "        else:\n",
    "            extr = torch.diag(torch.ones(4))\n",
    "        \n",
    "        intr = intr.unsqueeze(0)\n",
    "        extr = extr.unsqueeze(0)\n",
    "        w = torch.tensor([w])\n",
    "        h = torch.tensor([h])\n",
    "\n",
    "        kornia_sensor = K.geometry.camera.PinholeCamera(intr, extr, w, h)\n",
    "        sensors_dict[sensor_id] = kornia_sensor\n",
    "        \n",
    "    return sensors_dict\n"
   ]
  },
  {
   "cell_type": "code",
   "execution_count": 5,
   "metadata": {},
   "outputs": [
    {
     "data": {
      "text/plain": [
       "{'kinect_rgb': <kornia.geometry.camera.pinhole.PinholeCamera at 0x7fccaee031f0>,\n",
       " 'kinect_depth': <kornia.geometry.camera.pinhole.PinholeCamera at 0x7fccaee032e0>,\n",
       " 'kinect_depth_reg': <kornia.geometry.camera.pinhole.PinholeCamera at 0x7fccaef73f40>}"
      ]
     },
     "execution_count": 5,
     "metadata": {},
     "output_type": "execute_result"
    }
   ],
   "source": [
    "pinhole_from_kapture(SAMPLE_DATASET)"
   ]
  },
  {
   "cell_type": "markdown",
   "metadata": {},
   "source": [
    "Let's detect ORB keypoints and convert them to and from OpenCV"
   ]
  },
  {
   "cell_type": "code",
   "execution_count": 9,
   "metadata": {},
   "outputs": [
    {
     "ename": "AttributeError",
     "evalue": "module 'nbdev.export' has no attribute 'notebook2script'",
     "output_type": "error",
     "traceback": [
      "\u001b[0;31m---------------------------------------------------------------------------\u001b[0m",
      "\u001b[0;31mAttributeError\u001b[0m                            Traceback (most recent call last)",
      "Input \u001b[0;32mIn [9]\u001b[0m, in \u001b[0;36m<cell line: 3>\u001b[0;34m()\u001b[0m\n\u001b[1;32m      1\u001b[0m \u001b[38;5;66;03m#hide\u001b[39;00m\n\u001b[1;32m      2\u001b[0m \u001b[38;5;28;01mimport\u001b[39;00m \u001b[38;5;21;01mnbdev\u001b[39;00m\n\u001b[0;32m----> 3\u001b[0m \u001b[43mnbdev\u001b[49m\u001b[38;5;241;43m.\u001b[39;49m\u001b[43mexport\u001b[49m\u001b[38;5;241;43m.\u001b[39;49m\u001b[43mnotebook2script\u001b[49m\n",
      "\u001b[0;31mAttributeError\u001b[0m: module 'nbdev.export' has no attribute 'notebook2script'"
     ]
    }
   ],
   "source": [
    "#hide\n",
    "import nbdev\n",
    "nbdev.export.notebook2script"
   ]
  },
  {
   "cell_type": "code",
   "execution_count": null,
   "metadata": {},
   "outputs": [],
   "source": []
  }
 ],
 "metadata": {
  "kernelspec": {
   "display_name": "Python 3",
   "language": "python",
   "name": "python3"
  },
  "language_info": {
   "codemirror_mode": {
    "name": "ipython",
    "version": 3
   },
   "file_extension": ".py",
   "mimetype": "text/x-python",
   "name": "python",
   "nbconvert_exporter": "python",
   "pygments_lexer": "ipython3",
   "version": "3.10.4"
  }
 },
 "nbformat": 4,
 "nbformat_minor": 2
}
